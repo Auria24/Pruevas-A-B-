{
 "cells": [
  {
   "cell_type": "markdown",
   "metadata": {},
   "source": [
    "# Análisis de hipótesis "
   ]
  },
  {
   "cell_type": "markdown",
   "metadata": {},
   "source": [
    "## Importar librerías "
   ]
  },
  {
   "cell_type": "code",
   "execution_count": 123,
   "metadata": {},
   "outputs": [],
   "source": [
    "import pandas as pd\n",
    "import seaborn as sns\n",
    "import matplotlib.pyplot as plt\n",
    "import numpy as np\n",
    "import datetime as dt\n",
    "import scipy.stats as stats"
   ]
  },
  {
   "cell_type": "markdown",
   "metadata": {},
   "source": [
    "## Cargar datos"
   ]
  },
  {
   "cell_type": "code",
   "execution_count": 124,
   "metadata": {},
   "outputs": [],
   "source": [
    "hip_histor = pd.read_csv('./datasets/hypotheses_us.csv', sep=';')\n",
    "ordenes_df = pd.read_csv('./datasets/orders.csv')\n",
    "vicitas_df = pd.read_csv('./datasets/visits_us.csv')"
   ]
  },
  {
   "cell_type": "markdown",
   "metadata": {},
   "source": [
    "## Preparación de datos"
   ]
  },
  {
   "cell_type": "code",
   "execution_count": 125,
   "metadata": {},
   "outputs": [
    {
     "name": "stdout",
     "output_type": "stream",
     "text": [
      "<class 'pandas.core.frame.DataFrame'>\n",
      "RangeIndex: 9 entries, 0 to 8\n",
      "Data columns (total 5 columns):\n",
      " #   Column      Non-Null Count  Dtype \n",
      "---  ------      --------------  ----- \n",
      " 0   Hypothesis  9 non-null      object\n",
      " 1   Reach       9 non-null      int64 \n",
      " 2   Impact      9 non-null      int64 \n",
      " 3   Confidence  9 non-null      int64 \n",
      " 4   Effort      9 non-null      int64 \n",
      "dtypes: int64(4), object(1)\n",
      "memory usage: 492.0+ bytes\n",
      "None\n",
      "\n",
      "                                          Hypothesis  Reach  Impact  \\\n",
      "0  Add two new channels for attracting traffic. T...      3      10   \n",
      "1  Launch your own delivery service. This will sh...      2       5   \n",
      "2  Add product recommendation blocks to the store...      8       3   \n",
      "3  Change the category structure. This will incre...      8       3   \n",
      "4  Change the background color on the main page. ...      3       1   \n",
      "\n",
      "   Confidence  Effort  \n",
      "0           8       6  \n",
      "1           4      10  \n",
      "2           7       3  \n",
      "3           3       8  \n",
      "4           1       1  \n",
      "\n",
      "Hypothesis    0\n",
      "Reach         0\n",
      "Impact        0\n",
      "Confidence    0\n",
      "Effort        0\n",
      "dtype: int64\n",
      "\n",
      "0\n"
     ]
    }
   ],
   "source": [
    "print(hip_histor.info())\n",
    "print()\n",
    "print(hip_histor.head())\n",
    "print()\n",
    "print(hip_histor.isna().sum())\n",
    "print()\n",
    "print(hip_histor.duplicated().sum())     "
   ]
  },
  {
   "cell_type": "code",
   "execution_count": 126,
   "metadata": {},
   "outputs": [],
   "source": [
    "#poner nombre de columnas en minusculas\n",
    "hip_histor.columns = map(str.lower, hip_histor.columns)"
   ]
  },
  {
   "cell_type": "code",
   "execution_count": 127,
   "metadata": {},
   "outputs": [
    {
     "name": "stdout",
     "output_type": "stream",
     "text": [
      "<class 'pandas.core.frame.DataFrame'>\n",
      "RangeIndex: 1197 entries, 0 to 1196\n",
      "Data columns (total 5 columns):\n",
      " #   Column         Non-Null Count  Dtype \n",
      "---  ------         --------------  ----- \n",
      " 0   transactionId  1197 non-null   int64 \n",
      " 1   visitorId      1197 non-null   int64 \n",
      " 2   date           1197 non-null   object\n",
      " 3   revenue        1197 non-null   int64 \n",
      " 4   group          1197 non-null   object\n",
      "dtypes: int64(3), object(2)\n",
      "memory usage: 46.9+ KB\n",
      "None\n",
      "   transactionId   visitorId        date  revenue group\n",
      "0     3667963787  3312258926  2019-08-15     1650     B\n",
      "1     2804400009  3642806036  2019-08-15      730     B\n",
      "2     2961555356  4069496402  2019-08-15      400     A\n",
      "3     3797467345  1196621759  2019-08-15     9759     B\n",
      "4     2282983706  2322279887  2019-08-15     2308     B\n",
      "\n",
      "transactionId    0\n",
      "visitorId        0\n",
      "date             0\n",
      "revenue          0\n",
      "group            0\n",
      "dtype: int64\n",
      "\n",
      "0\n"
     ]
    }
   ],
   "source": [
    "print(ordenes_df.info())\n",
    "print(ordenes_df.head())\n",
    "print()\n",
    "print(ordenes_df.isna().sum())\n",
    "print()\n",
    "print(ordenes_df.duplicated().sum())\n"
   ]
  },
  {
   "cell_type": "code",
   "execution_count": 128,
   "metadata": {},
   "outputs": [],
   "source": [
    "ordenes_df.columns = map(str.lower,ordenes_df.columns)"
   ]
  },
  {
   "cell_type": "code",
   "execution_count": 129,
   "metadata": {},
   "outputs": [],
   "source": [
    "ordenes_df['date']=pd.to_datetime(ordenes_df['date'])"
   ]
  },
  {
   "cell_type": "code",
   "execution_count": 130,
   "metadata": {},
   "outputs": [
    {
     "name": "stdout",
     "output_type": "stream",
     "text": [
      "<class 'pandas.core.frame.DataFrame'>\n",
      "RangeIndex: 62 entries, 0 to 61\n",
      "Data columns (total 3 columns):\n",
      " #   Column  Non-Null Count  Dtype \n",
      "---  ------  --------------  ----- \n",
      " 0   date    62 non-null     object\n",
      " 1   group   62 non-null     object\n",
      " 2   visits  62 non-null     int64 \n",
      "dtypes: int64(1), object(2)\n",
      "memory usage: 1.6+ KB\n",
      "None\n",
      "         date group  visits\n",
      "0  2019-08-01     A     719\n",
      "1  2019-08-02     A     619\n",
      "2  2019-08-03     A     507\n",
      "3  2019-08-04     A     717\n",
      "4  2019-08-05     A     756\n",
      "\n",
      "date      0\n",
      "group     0\n",
      "visits    0\n",
      "dtype: int64\n",
      "\n",
      "0\n"
     ]
    }
   ],
   "source": [
    "print(vicitas_df.info())\n",
    "print(vicitas_df.head())\n",
    "print()\n",
    "print(vicitas_df.isna().sum())\n",
    "print()\n",
    "print(vicitas_df.duplicated().sum())\n"
   ]
  },
  {
   "cell_type": "code",
   "execution_count": 131,
   "metadata": {},
   "outputs": [],
   "source": [
    "vicitas_df['date']=pd.to_datetime(vicitas_df['date'])"
   ]
  },
  {
   "cell_type": "markdown",
   "metadata": {},
   "source": [
    "## Priorizar hipótesis"
   ]
  },
  {
   "cell_type": "markdown",
   "metadata": {},
   "source": [
    "### Aplicar el framework ICE para priorizar hipótesis. Ordenarlas en orden descendente de prioridad."
   ]
  },
  {
   "cell_type": "code",
   "execution_count": 132,
   "metadata": {},
   "outputs": [
    {
     "name": "stdout",
     "output_type": "stream",
     "text": [
      "                                          hypothesis        ICE\n",
      "8  Launch a promotion that gives users discounts ...  16.200000\n",
      "0  Add two new channels for attracting traffic. T...  13.333333\n",
      "7  Add a subscription form to all the main pages....  11.200000\n",
      "6  Show banners with current offers and sales on ...   8.000000\n",
      "2  Add product recommendation blocks to the store...   7.000000\n",
      "1  Launch your own delivery service. This will sh...   2.000000\n",
      "5  Add a customer review page. This will increase...   1.333333\n",
      "3  Change the category structure. This will incre...   1.125000\n",
      "4  Change the background color on the main page. ...   1.000000\n"
     ]
    }
   ],
   "source": [
    "hip_histor['ICE'] =(hip_histor['impact']*hip_histor['confidence']/hip_histor['effort'])\n",
    "\n",
    "print(hip_histor[['hypothesis', 'ICE']].sort_values(by= 'ICE', ascending=False))"
   ]
  },
  {
   "cell_type": "markdown",
   "metadata": {},
   "source": [
    "### Aplicar el framework RICE para priorizar hipótesis. Ordenarlas en orden descendente de prioridad."
   ]
  },
  {
   "cell_type": "code",
   "execution_count": 133,
   "metadata": {},
   "outputs": [
    {
     "name": "stdout",
     "output_type": "stream",
     "text": [
      "                                          hypothesis   RICE\n",
      "7  Add a subscription form to all the main pages....  112.0\n",
      "2  Add product recommendation blocks to the store...   56.0\n",
      "0  Add two new channels for attracting traffic. T...   40.0\n",
      "6  Show banners with current offers and sales on ...   40.0\n",
      "8  Launch a promotion that gives users discounts ...   16.2\n",
      "3  Change the category structure. This will incre...    9.0\n",
      "1  Launch your own delivery service. This will sh...    4.0\n",
      "5  Add a customer review page. This will increase...    4.0\n",
      "4  Change the background color on the main page. ...    3.0\n"
     ]
    }
   ],
   "source": [
    "hip_histor['RICE'] = (hip_histor['reach']* hip_histor['impact']*hip_histor['confidence'])/hip_histor['effort']\n",
    "\n",
    "print(hip_histor[['hypothesis','RICE']].sort_values(by= 'RICE', ascending=False))"
   ]
  },
  {
   "cell_type": "markdown",
   "metadata": {},
   "source": [
    "### Mostrar cómo cambia la priorización de hipótesis cuando utilizas RICE en lugar de ICE. Proporcionar una explicación de los cambios."
   ]
  },
  {
   "cell_type": "markdown",
   "metadata": {},
   "source": [
    "##### **Los cambios son significativos ya que si bien en ICE son 8,  0 y 7 las hipótesis mas fuetes, sin embargo podemos darnos cuenta que en RICE el 7 toma la delantera por una mayor puntuacion. En custion de datos nos damos cuenta que la que tiene un mayor impacto es la cero, mientras que la que tiene un mayor alcance en los usuarios es la 7. "
   ]
  },
  {
   "cell_type": "markdown",
   "metadata": {},
   "source": [
    "## Análisis del test A/B"
   ]
  },
  {
   "cell_type": "markdown",
   "metadata": {},
   "source": [
    "### Representa gráficamente el ingreso acumulado por grupo. Haz conclusiones y conjeturas."
   ]
  },
  {
   "cell_type": "code",
   "execution_count": 134,
   "metadata": {},
   "outputs": [],
   "source": [
    "datesGroups = ordenes_df[['date','group']].drop_duplicates()\n",
    "ordenAggregated = datesGroups.apply(lambda x: ordenes_df[np.logical_and(ordenes_df['date'] <= x['date'],ordenes_df['group']== x['group'])].agg({'date': 'max', 'group': 'max','transactionid':pd.Series.nunique,'visitorid': pd.Series.nunique, 'revenue': 'sum'}),axis=1).sort_values(by= ['date','group'])\n",
    "visitasAggregated = datesGroups.apply(lambda x: vicitas_df[np.logical_and(vicitas_df['date'] <= x['date'], vicitas_df['group'] == x['group'])].agg({'date':'max','group':'max', 'visits': 'sum'}), axis=1).sort_values(by=['date', 'group'])"
   ]
  },
  {
   "cell_type": "code",
   "execution_count": 135,
   "metadata": {},
   "outputs": [],
   "source": [
    "cumulativeData = ordenAggregated.merge(visitasAggregated, left_on=['date', 'group'], right_on =['date', 'group'])\n",
    "\n",
    "cumulativeData.columns = ['date', 'group', 'orders', 'buyers', 'revenue', 'visitors']"
   ]
  },
  {
   "cell_type": "code",
   "execution_count": 136,
   "metadata": {},
   "outputs": [
    {
     "data": {
      "text/plain": [
       "<matplotlib.legend.Legend at 0x17af8774860>"
      ]
     },
     "execution_count": 136,
     "metadata": {},
     "output_type": "execute_result"
    },
    {
     "data": {
      "image/png": "[encoded data removed]",
      "text/plain": [
       "<Figure size 1000x800 with 1 Axes>"
      ]
     },
     "metadata": {},
     "output_type": "display_data"
    }
   ],
   "source": [
    "cumulativeRevenueA = cumulativeData[cumulativeData['group'] == 'A'][['date', 'revenue', 'orders']]\n",
    "\n",
    "cumulativeRevenueB = cumulativeData[cumulativeData['group'] == 'B'][['date', 'revenue', 'orders']]\n",
    "\n",
    "plt.subplots(figsize=(10,8))\n",
    "\n",
    "plt.plot(cumulativeRevenueA['date'],cumulativeRevenueA['revenue'], label ='A', marker='o')\n",
    "\n",
    "plt.plot(cumulativeRevenueB['date'], cumulativeRevenueB['revenue'],label = 'B', marker='o')\n",
    "\n",
    "plt.legend()"
   ]
  },
  {
   "cell_type": "markdown",
   "metadata": {},
   "source": [
    "##### **En conclusión  en cierto punto las dos pruevas llevaban un nivel muy parejo siendo la \"a\" la que tomo delantera, mientras que al avanzar la \"b\"  concluyo con  un nivel superior. "
   ]
  },
  {
   "cell_type": "markdown",
   "metadata": {},
   "source": [
    "### Representa gráficamente el tamaño de pedido promedio acumulado por grupo. Haz conclusiones y conjeturas."
   ]
  },
  {
   "cell_type": "code",
   "execution_count": 137,
   "metadata": {},
   "outputs": [
    {
     "data": {
      "text/plain": [
       "<matplotlib.legend.Legend at 0x17af8839010>"
      ]
     },
     "execution_count": 137,
     "metadata": {},
     "output_type": "execute_result"
    },
    {
     "data": {
      "image/png": "[encoded data removed]",
      "text/plain": [
       "<Figure size 1000x800 with 1 Axes>"
      ]
     },
     "metadata": {},
     "output_type": "display_data"
    }
   ],
   "source": [
    "plt.subplots(figsize=(10,8))\n",
    "plt.plot(cumulativeRevenueA['date'],cumulativeRevenueA['revenue']/cumulativeRevenueA['orders'],label='A', marker='o',)\n",
    "plt.plot(cumulativeRevenueB['date'],cumulativeRevenueB['revenue']/cumulativeRevenueB['orders'],label='B', marker='o')\n",
    "plt.legend()"
   ]
  },
  {
   "cell_type": "markdown",
   "metadata": {},
   "source": [
    "##### **Los datos aun son muy ambiguos ya que  la \"A\" mantiene un nivel muy praticular a diferencia de \"B\" que maneja un estilo rebote y termina ligeramente superando \"A\"."
   ]
  },
  {
   "cell_type": "markdown",
   "metadata": {},
   "source": [
    "### Representa gráficamente la diferencia relativa en el tamaño de pedido promedio acumulado para el grupo B en comparación con el grupo A. Haz conclusiones y conjeturas."
   ]
  },
  {
   "cell_type": "code",
   "execution_count": 138,
   "metadata": {},
   "outputs": [
    {
     "data": {
      "text/plain": [
       "<matplotlib.lines.Line2D at 0x17af882c560>"
      ]
     },
     "execution_count": 138,
     "metadata": {},
     "output_type": "execute_result"
    },
    {
     "data": {
      "image/png": "[encoded data removed]",
      "text/plain": [
       "<Figure size 1000x800 with 1 Axes>"
      ]
     },
     "metadata": {},
     "output_type": "display_data"
    }
   ],
   "source": [
    "mergedCumulativeRevenue = cumulativeRevenueA.merge(cumulativeRevenueB, left_on = 'date', right_on='date', how='left', suffixes=['A', 'B'])\n",
    "plt.subplots(figsize=(10,8))\n",
    "plt.plot(mergedCumulativeRevenue['date'], (mergedCumulativeRevenue['revenueB']/mergedCumulativeRevenue['ordersB'])/(mergedCumulativeRevenue['revenueA']/mergedCumulativeRevenue['ordersA'])-1)\n",
    "plt.axhline(y=0, color='black', linestyle='--')"
   ]
  },
  {
   "cell_type": "markdown",
   "metadata": {},
   "source": [
    "##### **Contamos con un crecimiento hacelerado en un  principio, el cual decae repentinamente, para posteriormente volver a subir. y tomar mayor estabilidad. "
   ]
  },
  {
   "cell_type": "markdown",
   "metadata": {},
   "source": [
    "### Calcula la tasa de conversión de cada grupo como la relación entre los pedidos y el número de visitas de cada día. Representa gráficamente las tasas de conversión diarias de los dos grupos y describe la diferencia. Saca conclusiones y haz conjeturas."
   ]
  },
  {
   "cell_type": "code",
   "execution_count": 139,
   "metadata": {},
   "outputs": [
    {
     "data": {
      "text/plain": [
       "<function matplotlib.pyplot.show(close=None, block=None)>"
      ]
     },
     "execution_count": 139,
     "metadata": {},
     "output_type": "execute_result"
    },
    {
     "data": {
      "image/png": "[encoded data removed]",
      "text/plain": [
       "<Figure size 1000x800 with 1 Axes>"
      ]
     },
     "metadata": {},
     "output_type": "display_data"
    }
   ],
   "source": [
    "cumulativeData['conversion'] = cumulativeData['orders']/cumulativeData['visitors']\n",
    "\n",
    "cumulativeDataA = cumulativeData[cumulativeData['group']=='A']\n",
    "cumulativeDataB = cumulativeData[cumulativeData['group']=='B']\n",
    "plt.subplots(figsize=(10,8))\n",
    "plt.plot(cumulativeDataA['date'], cumulativeDataA['conversion'], label = 'A')\n",
    "plt.plot(cumulativeDataB['date'], cumulativeDataB['conversion'], label = 'B')\n",
    "plt.legend()\n",
    "plt.axis([pd.to_datetime(\"2019-08-01\"), pd.to_datetime('2019-09-01'), 0, 0.04])\n",
    "plt.show"
   ]
  },
  {
   "cell_type": "markdown",
   "metadata": {},
   "source": [
    "##### **Nuestra prueva \"B\"  es genuina mente mas alta al final , siendo que inicio relativamente mas abajo."
   ]
  },
  {
   "cell_type": "markdown",
   "metadata": {},
   "source": [
    "### Traza un gráfico de dispersión del número de pedidos por usuario. Haz conclusiones y conjeturas.\n",
    "\n",
    " "
   ]
  },
  {
   "cell_type": "code",
   "execution_count": 140,
   "metadata": {},
   "outputs": [],
   "source": [
    "ordersByUsers = (\n",
    "   ordenes_df.drop(['group', 'revenue', 'date'], axis=1)\n",
    "    .groupby('visitorid', as_index=False)\n",
    "    .agg({'transactionid': pd.Series.nunique})\n",
    ")\n",
    "ordersByUsers.columns = ['visitorid', 'orders']"
   ]
  },
  {
   "cell_type": "code",
   "execution_count": 141,
   "metadata": {},
   "outputs": [
    {
     "data": {
      "text/plain": [
       "<matplotlib.collections.PathCollection at 0x17af8829250>"
      ]
     },
     "execution_count": 141,
     "metadata": {},
     "output_type": "execute_result"
    },
    {
     "data": {
      "image/png": "[encoded data removed]",
      "text/plain": [
       "<Figure size 640x480 with 1 Axes>"
      ]
     },
     "metadata": {},
     "output_type": "display_data"
    }
   ],
   "source": [
    "x_values = pd.Series(range(0,len(ordersByUsers)))\n",
    "plt.scatter(x_values, ordersByUsers['orders']) "
   ]
  },
  {
   "cell_type": "markdown",
   "metadata": {},
   "source": [
    "##### **La mayoria de los usuarios solo realizan un pedido, tenemos algunos usuarios que realizan mas, solo que son muy esporadicoas despues de 3 pedidos."
   ]
  },
  {
   "cell_type": "markdown",
   "metadata": {},
   "source": [
    "### Calcula los percentiles 95 y 99 del número de pedidos por usuario. Define el punto en el cual un punto de datos se convierte en una anomalía."
   ]
  },
  {
   "cell_type": "code",
   "execution_count": 142,
   "metadata": {},
   "outputs": [
    {
     "name": "stdout",
     "output_type": "stream",
     "text": [
      "[2. 4.]\n"
     ]
    }
   ],
   "source": [
    "print(np.percentile(ordersByUsers['orders'], [95, 99]))"
   ]
  },
  {
   "cell_type": "markdown",
   "metadata": {},
   "source": [
    "### Traza un gráfico de dispersión de los precios de los pedidos. Haz conclusiones y conjeturas.\n"
   ]
  },
  {
   "cell_type": "code",
   "execution_count": 143,
   "metadata": {},
   "outputs": [
    {
     "data": {
      "text/plain": [
       "<matplotlib.collections.PathCollection at 0x17af8b29670>"
      ]
     },
     "execution_count": 143,
     "metadata": {},
     "output_type": "execute_result"
    },
    {
     "data": {
      "image/png": "[encoded data removed]",
      "text/plain": [
       "<Figure size 640x480 with 1 Axes>"
      ]
     },
     "metadata": {},
     "output_type": "display_data"
    }
   ],
   "source": [
    "x_values = pd.Series(range(0,len(ordenes_df['revenue'])))\n",
    "\n",
    "plt.scatter(x_values, ordenes_df['revenue'])"
   ]
  },
  {
   "cell_type": "markdown",
   "metadata": {},
   "source": [
    "##### **La mayoría de nuestros valores se encuentran estable teniendo dos valores relativamente atípicos."
   ]
  },
  {
   "cell_type": "markdown",
   "metadata": {},
   "source": [
    "### Calcula los percentiles 95 y 99 de los precios de los pedidos. Define el punto en el cual un punto de datos se convierte en una anomalía."
   ]
  },
  {
   "cell_type": "code",
   "execution_count": 144,
   "metadata": {},
   "outputs": [
    {
     "name": "stdout",
     "output_type": "stream",
     "text": [
      "[28000.  58233.2]\n"
     ]
    }
   ],
   "source": [
    "print(np.percentile(ordenes_df['revenue'], [95, 99]))"
   ]
  },
  {
   "cell_type": "markdown",
   "metadata": {},
   "source": [
    "### Encuentra la significancia estadística de la diferencia en la conversión entre los grupos utilizando los datos en bruto. Haz conclusiones y conjeturas."
   ]
  },
  {
   "cell_type": "code",
   "execution_count": 151,
   "metadata": {},
   "outputs": [],
   "source": [
    "ordersByUsersA = (ordenes_df[ordenes_df['group']=='A'].groupby('visitorid',as_index = False).agg({'transactionid':pd.Series.nunique}))\n",
    "ordersByUsersA.columns = ['visitors', 'orders']\n",
    "\n",
    "ordersByUsersB = (ordenes_df[ordenes_df['group']=='B'].groupby('visitorid',as_index = False).agg({'transactionid':pd.Series.nunique}))\n",
    "ordersByUsersB.columns = ['visitors', 'orders']"
   ]
  },
  {
   "cell_type": "code",
   "execution_count": 157,
   "metadata": {},
   "outputs": [
    {
     "name": "stdout",
     "output_type": "stream",
     "text": [
      "0.01679\n",
      "0.138\n"
     ]
    }
   ],
   "source": [
    "sampleA = pd.concat([ordersByUsersA['orders'],pd.Series(0, index=np.arange(vicitas_df[vicitas_df['group']== 'A']['visits'].sum()-len(ordersByUsersA['orders'])), name='orders')],axis=0,)\n",
    "\n",
    "sampleB = pd.concat([ordersByUsersB['orders'],pd.Series(0, index=np.arange(vicitas_df[vicitas_df['group']== 'B']['visits'].sum()-len(ordersByUsersB['orders'])), name='orders')],axis=0,)\n",
    "\n",
    "print(\"{0:.5f}\".format(stats.mannwhitneyu(sampleA, sampleB)[1]))\n",
    "\n",
    "print(\"{0:.3f}\".format(sampleB.mean()/sampleA.mean()-1))"
   ]
  },
  {
   "cell_type": "markdown",
   "metadata": {},
   "source": [
    "##### **El porcentaje del casi 13% es haceptable para el proceso\"B\""
   ]
  },
  {
   "cell_type": "markdown",
   "metadata": {},
   "source": [
    "### Encuentra la significancia estadística de la diferencia en el tamaño promedio de pedido entre los grupos utilizando los datos en bruto. Haz conclusiones y conjeturas."
   ]
  },
  {
   "cell_type": "code",
   "execution_count": 158,
   "metadata": {},
   "outputs": [
    {
     "name": "stdout",
     "output_type": "stream",
     "text": [
      "0.729\n",
      "0.259\n"
     ]
    }
   ],
   "source": [
    "print('{0:.3f}'.format(stats.mannwhitneyu(ordenes_df[ordenes_df['group']=='A']['revenue'], ordenes_df[ordenes_df['group']=='B']['revenue'])[1]))\n",
    "print('{0:.3f}'.format(ordenes_df[ordenes_df['group']=='B']['revenue'].mean()/ordenes_df[ordenes_df['group']=='A']['revenue'].mean()-1))"
   ]
  },
  {
   "cell_type": "markdown",
   "metadata": {},
   "source": [
    "#####  **La ganancia relativa es del 25%, mientras que el tamaño promedio de las compras es de casi 73% , es bastante haceptable el porcentaje en ambas."
   ]
  },
  {
   "cell_type": "markdown",
   "metadata": {},
   "source": [
    "### Encuentra la significancia estadística de la diferencia en la conversión entre los grupos utilizando los datos filtrados. Haz conclusiones y conjeturas."
   ]
  },
  {
   "cell_type": "code",
   "execution_count": 177,
   "metadata": {},
   "outputs": [],
   "source": [
    "usersWithManyOrders = pd.concat(\n",
    "    [ordersByUsersA[ordersByUsersA['orders'] > 2]['visitors'], \n",
    "                                 ordersByUsersB[ordersByUsersB['orders'] > 2]['visitors'],\n",
    "                                                                              ], axis = 0)\n",
    "                                                                                                                                                                                                                                                                    \n",
    "usersWithExpensiveOrders = ordenes_df[ordenes_df['revenue'] > 10000]['visitorid']\n",
    "abnormalUsers = pd.concat([usersWithManyOrders, usersWithExpensiveOrders], axis = 0).drop_duplicates().sort_values()"
   ]
  },
  {
   "cell_type": "code",
   "execution_count": 187,
   "metadata": {},
   "outputs": [
    {
     "name": "stdout",
     "output_type": "stream",
     "text": [
      "0.00896\n",
      "0.205\n"
     ]
    }
   ],
   "source": [
    "sampleAFiltered = pd.concat([ordersByUsersA[np.logical_not(ordersByUsersA['visitors'].isin(abnormalUsers))]['orders'],\n",
    "                             pd.Series(0, index=np.arange(vicitas_df[vicitas_df['group']=='A']['visits'].sum() - len(ordersByUsersA['orders'])),\n",
    "                                       name='orders')],axis=0)\n",
    "\n",
    "sampleBFiltered = pd.concat([ordersByUsersB[np.logical_not(ordersByUsersB['visitors'].isin(abnormalUsers))]['orders'],\n",
    "                             pd.Series(0, index=np.arange(vicitas_df[vicitas_df['group']=='B']['visits'].sum() - len(ordersByUsersB['orders'])),\n",
    "                                       name='orders')],axis=0)\n",
    "print(\"{0:.5f}\".format(stats.mannwhitneyu(sampleAFiltered, sampleBFiltered)[1]))\n",
    "print(\"{0:.3f}\".format(sampleBFiltered.mean()/sampleAFiltered.mean()-1))"
   ]
  },
  {
   "cell_type": "markdown",
   "metadata": {},
   "source": [
    "##### **La prueva B sigue teniendo un valor significateivamente alto en comparacion con A aunque , la diferncia entre los datos filtrados y los datos brutos en A tienen una disminucion. "
   ]
  },
  {
   "cell_type": "markdown",
   "metadata": {},
   "source": [
    "### Encuentra la significancia estadística de la diferencia en el tamaño promedio de pedido entre los grupos utilizando los datos filtrados. Haz conclusiones y conjeturas."
   ]
  },
  {
   "cell_type": "code",
   "execution_count": 183,
   "metadata": {},
   "outputs": [
    {
     "name": "stdout",
     "output_type": "stream",
     "text": [
      "0.965\n",
      "0.002\n"
     ]
    }
   ],
   "source": [
    "print(\"{0:.3f}\".format(stats.mannwhitneyu(\n",
    "    ordenes_df[np.logical_and(ordenes_df['group']=='A',\n",
    "                               np.logical_not(ordenes_df['visitorid'].isin(abnormalUsers)))]['revenue'], \n",
    "    ordenes_df[np.logical_and(\n",
    "        ordenes_df['group']=='B',\n",
    "        np.logical_not(ordenes_df['visitorid'].isin(abnormalUsers)))]['revenue']\n",
    ")[1]))\n",
    "\n",
    "print(\"{0:.3f}\".format(ordenes_df[np.logical_and(ordenes_df['group']=='B',  \n",
    "                                                 np.logical_not(ordenes_df['visitorid'].isin(abnormalUsers)))]['revenue'].mean() /  \n",
    "                                                 ordenes_df[np.logical_and(ordenes_df['group']=='A',  \n",
    "                                                                           np.logical_not(ordenes_df['visitorid'].isin(abnormalUsers)))]\n",
    "                                                                           ['revenue'].mean() - 1))\n"
   ]
  },
  {
   "cell_type": "markdown",
   "metadata": {},
   "source": [
    "##### **El promedio se redujo significtivamente, tanto como la ganancia relativa es decir que los valores atipicos si generaban una diferencia que producia inestabilidad en los datos."
   ]
  },
  {
   "cell_type": "markdown",
   "metadata": {},
   "source": [
    "### Toma una decisión basada en los resultados de la prueba. Las decisiones posibles son: 1. Parar la prueba, considerar a uno de los grupos como líder. 2. Parar la prueba, concluir que no hay diferencia entre los grupos. 3. Continuar la prueba."
   ]
  },
  {
   "cell_type": "markdown",
   "metadata": {},
   "source": [
    "##### **Deacuerdo con los resultados obtenidos tomaremos la decisión de continuar con la prueva ya que tiene un funcionamiento importante para la empresa."
   ]
  }
 ],
 "metadata": {
  "ExecuteTimeLog": [
   {
    "duration": 2632,
    "start_time": "2024-10-14T18:58:31.919Z"
   },
   {
    "duration": 3,
    "start_time": "2024-10-14T19:02:32.078Z"
   },
   {
    "duration": 23,
    "start_time": "2024-10-14T19:02:35.680Z"
   },
   {
    "duration": 3,
    "start_time": "2024-10-14T19:03:47.983Z"
   },
   {
    "duration": 13,
    "start_time": "2024-10-14T19:03:49.415Z"
   },
   {
    "duration": 8,
    "start_time": "2024-10-14T19:10:36.570Z"
   },
   {
    "duration": 5,
    "start_time": "2024-10-14T19:10:45.246Z"
   },
   {
    "duration": 216,
    "start_time": "2024-10-14T19:11:04.505Z"
   },
   {
    "duration": 31,
    "start_time": "2024-10-14T19:11:21.476Z"
   },
   {
    "duration": 33,
    "start_time": "2024-10-14T19:11:36.203Z"
   },
   {
    "duration": 30,
    "start_time": "2024-10-14T19:12:02.926Z"
   },
   {
    "duration": 23,
    "start_time": "2024-10-14T19:13:12.692Z"
   },
   {
    "duration": 22,
    "start_time": "2024-10-14T19:13:36.566Z"
   },
   {
    "duration": 23,
    "start_time": "2024-10-14T19:14:24.074Z"
   },
   {
    "duration": 16,
    "start_time": "2024-10-14T19:18:38.046Z"
   },
   {
    "duration": 14,
    "start_time": "2024-10-14T19:19:20.564Z"
   },
   {
    "duration": 13,
    "start_time": "2024-10-14T19:19:27.389Z"
   },
   {
    "duration": 13,
    "start_time": "2024-10-14T19:20:28.316Z"
   },
   {
    "duration": 12,
    "start_time": "2024-10-14T19:20:30.022Z"
   },
   {
    "duration": 14,
    "start_time": "2024-10-14T19:20:37.437Z"
   },
   {
    "duration": 10,
    "start_time": "2024-10-14T19:20:49.524Z"
   },
   {
    "duration": 832,
    "start_time": "2024-10-14T19:36:22.795Z"
   },
   {
    "duration": 15,
    "start_time": "2024-10-14T19:36:23.629Z"
   },
   {
    "duration": 11,
    "start_time": "2024-10-14T19:36:23.646Z"
   },
   {
    "duration": 12,
    "start_time": "2024-10-14T19:36:23.658Z"
   },
   {
    "duration": 10,
    "start_time": "2024-10-14T19:36:23.673Z"
   },
   {
    "duration": 2486,
    "start_time": "2024-10-16T03:35:37.846Z"
   },
   {
    "duration": 18,
    "start_time": "2024-10-16T03:35:40.334Z"
   },
   {
    "duration": 12,
    "start_time": "2024-10-16T03:35:40.353Z"
   },
   {
    "duration": 12,
    "start_time": "2024-10-16T03:35:40.367Z"
   },
   {
    "duration": 11,
    "start_time": "2024-10-16T03:35:40.387Z"
   },
   {
    "duration": 596,
    "start_time": "2024-10-16T03:46:05.270Z"
   },
   {
    "duration": 44,
    "start_time": "2024-10-16T03:48:38.629Z"
   },
   {
    "duration": 12,
    "start_time": "2024-10-16T03:49:45.753Z"
   },
   {
    "duration": 12,
    "start_time": "2024-10-16T03:49:52.031Z"
   },
   {
    "duration": 44,
    "start_time": "2024-10-16T03:50:02.908Z"
   },
   {
    "duration": 43,
    "start_time": "2024-10-16T03:50:07.985Z"
   },
   {
    "duration": 423,
    "start_time": "2024-10-16T03:58:19.186Z"
   },
   {
    "duration": 4,
    "start_time": "2024-10-16T03:58:30.873Z"
   },
   {
    "duration": 3,
    "start_time": "2024-10-16T04:00:26.451Z"
   },
   {
    "duration": 14,
    "start_time": "2024-10-16T04:00:30.294Z"
   },
   {
    "duration": 837,
    "start_time": "2024-10-16T04:00:43.041Z"
   },
   {
    "duration": 20,
    "start_time": "2024-10-16T04:00:43.881Z"
   },
   {
    "duration": 15,
    "start_time": "2024-10-16T04:00:43.903Z"
   },
   {
    "duration": 2,
    "start_time": "2024-10-16T04:00:43.920Z"
   },
   {
    "duration": 15,
    "start_time": "2024-10-16T04:00:43.925Z"
   },
   {
    "duration": 3,
    "start_time": "2024-10-16T04:00:43.942Z"
   },
   {
    "duration": 12,
    "start_time": "2024-10-16T04:00:43.948Z"
   },
   {
    "duration": 692,
    "start_time": "2024-10-16T04:00:43.962Z"
   },
   {
    "duration": 15,
    "start_time": "2024-10-16T04:01:27.243Z"
   },
   {
    "duration": 6,
    "start_time": "2024-10-16T04:01:41.503Z"
   },
   {
    "duration": 7,
    "start_time": "2024-10-16T04:05:24.680Z"
   },
   {
    "duration": 8,
    "start_time": "2024-10-16T04:13:28.387Z"
   },
   {
    "duration": 8,
    "start_time": "2024-10-16T04:13:35.643Z"
   },
   {
    "duration": 6,
    "start_time": "2024-10-16T04:25:52.900Z"
   },
   {
    "duration": 139,
    "start_time": "2024-10-16T04:26:05.939Z"
   },
   {
    "duration": 3,
    "start_time": "2024-10-16T04:26:37.833Z"
   },
   {
    "duration": 19,
    "start_time": "2024-10-16T04:26:46.346Z"
   },
   {
    "duration": 48,
    "start_time": "2024-10-16T04:27:07.865Z"
   },
   {
    "duration": 16,
    "start_time": "2024-10-16T04:38:14.024Z"
   },
   {
    "duration": 14,
    "start_time": "2024-10-16T04:39:00.576Z"
   },
   {
    "duration": 223,
    "start_time": "2024-10-16T04:39:14.510Z"
   },
   {
    "duration": 116,
    "start_time": "2024-10-16T04:41:55.051Z"
   },
   {
    "duration": 4,
    "start_time": "2024-10-16T04:42:43.032Z"
   },
   {
    "duration": 556,
    "start_time": "2024-10-16T04:42:52.171Z"
   },
   {
    "duration": 106,
    "start_time": "2024-10-16T04:43:16.164Z"
   },
   {
    "duration": 22,
    "start_time": "2024-10-16T04:51:08.067Z"
   },
   {
    "duration": 7,
    "start_time": "2024-10-16T04:51:18.364Z"
   },
   {
    "duration": 329,
    "start_time": "2024-10-16T04:52:10.715Z"
   },
   {
    "duration": 6,
    "start_time": "2024-10-16T04:52:46.342Z"
   },
   {
    "duration": 145,
    "start_time": "2024-10-16T04:54:22.268Z"
   },
   {
    "duration": 194,
    "start_time": "2024-10-16T04:55:09.503Z"
   },
   {
    "duration": 205,
    "start_time": "2024-10-16T04:55:57.764Z"
   },
   {
    "duration": 210,
    "start_time": "2024-10-16T04:56:08.789Z"
   },
   {
    "duration": 127,
    "start_time": "2024-10-16T05:05:42.108Z"
   },
   {
    "duration": 130,
    "start_time": "2024-10-16T05:06:17.000Z"
   },
   {
    "duration": 307,
    "start_time": "2024-10-16T05:06:34.902Z"
   },
   {
    "duration": 334,
    "start_time": "2024-10-16T05:15:25.561Z"
   },
   {
    "duration": 151,
    "start_time": "2024-10-16T05:22:34.348Z"
   },
   {
    "duration": 162,
    "start_time": "2024-10-16T05:22:53.182Z"
   },
   {
    "duration": 168,
    "start_time": "2024-10-16T05:23:28.587Z"
   },
   {
    "duration": 205,
    "start_time": "2024-10-16T05:23:34.875Z"
   },
   {
    "duration": 155,
    "start_time": "2024-10-16T05:23:46.442Z"
   },
   {
    "duration": 220,
    "start_time": "2024-10-16T05:23:54.947Z"
   },
   {
    "duration": 144,
    "start_time": "2024-10-16T05:24:03.497Z"
   },
   {
    "duration": 155,
    "start_time": "2024-10-16T05:24:36.757Z"
   },
   {
    "duration": 156,
    "start_time": "2024-10-16T05:24:55.184Z"
   },
   {
    "duration": 151,
    "start_time": "2024-10-16T05:27:49.969Z"
   },
   {
    "duration": 195,
    "start_time": "2024-10-16T05:34:38.473Z"
   },
   {
    "duration": 103,
    "start_time": "2024-10-16T05:35:24.251Z"
   },
   {
    "duration": 4,
    "start_time": "2024-10-16T05:36:15.523Z"
   },
   {
    "duration": 120,
    "start_time": "2024-10-16T05:41:25.023Z"
   },
   {
    "duration": 14,
    "start_time": "2024-10-16T05:44:22.555Z"
   },
   {
    "duration": 4,
    "start_time": "2024-10-16T05:44:40.836Z"
   },
   {
    "duration": 15,
    "start_time": "2024-10-16T05:51:02.220Z"
   },
   {
    "duration": 2,
    "start_time": "2024-10-16T05:51:32.771Z"
   },
   {
    "duration": 11,
    "start_time": "2024-10-16T05:51:45.680Z"
   },
   {
    "duration": 17,
    "start_time": "2024-10-16T05:55:02.183Z"
   },
   {
    "duration": 15,
    "start_time": "2024-10-16T05:58:08.185Z"
   },
   {
    "duration": 185,
    "start_time": "2024-10-16T05:58:49.209Z"
   },
   {
    "duration": 17,
    "start_time": "2024-10-16T05:58:51.964Z"
   },
   {
    "duration": 26,
    "start_time": "2024-10-16T05:59:39.158Z"
   },
   {
    "duration": 11,
    "start_time": "2024-10-16T05:59:53.335Z"
   },
   {
    "duration": 9,
    "start_time": "2024-10-16T06:08:44.187Z"
   },
   {
    "duration": 6,
    "start_time": "2024-10-16T06:08:57.479Z"
   },
   {
    "duration": 20,
    "start_time": "2024-10-16T06:10:14.313Z"
   },
   {
    "duration": 29,
    "start_time": "2024-10-16T06:11:05.073Z"
   },
   {
    "duration": 67,
    "start_time": "2024-10-16T06:16:28.011Z"
   },
   {
    "duration": 5,
    "start_time": "2024-10-16T06:17:01.947Z"
   },
   {
    "duration": 4,
    "start_time": "2024-10-16T06:17:33.733Z"
   },
   {
    "duration": 17,
    "start_time": "2024-10-16T06:25:11.703Z"
   },
   {
    "duration": 5,
    "start_time": "2024-10-16T06:27:25.545Z"
   },
   {
    "duration": 5,
    "start_time": "2024-10-16T06:30:11.667Z"
   },
   {
    "duration": 5,
    "start_time": "2024-10-16T06:39:31.518Z"
   },
   {
    "duration": 4,
    "start_time": "2024-10-16T06:39:59.647Z"
   },
   {
    "duration": 6,
    "start_time": "2024-10-16T06:50:48.412Z"
   },
   {
    "duration": 5,
    "start_time": "2024-10-16T06:54:14.038Z"
   },
   {
    "duration": 5,
    "start_time": "2024-10-16T06:54:33.355Z"
   },
   {
    "duration": 12,
    "start_time": "2024-10-16T06:54:40.428Z"
   },
   {
    "duration": 811,
    "start_time": "2024-10-16T07:08:06.079Z"
   },
   {
    "duration": 13,
    "start_time": "2024-10-16T07:08:06.892Z"
   },
   {
    "duration": 13,
    "start_time": "2024-10-16T07:08:06.906Z"
   },
   {
    "duration": 2,
    "start_time": "2024-10-16T07:08:06.921Z"
   },
   {
    "duration": 13,
    "start_time": "2024-10-16T07:08:06.925Z"
   },
   {
    "duration": 4,
    "start_time": "2024-10-16T07:08:06.940Z"
   },
   {
    "duration": 10,
    "start_time": "2024-10-16T07:08:06.946Z"
   },
   {
    "duration": 34,
    "start_time": "2024-10-16T07:08:06.958Z"
   },
   {
    "duration": 6,
    "start_time": "2024-10-16T07:08:06.993Z"
   },
   {
    "duration": 40,
    "start_time": "2024-10-16T07:08:07.002Z"
   },
   {
    "duration": 348,
    "start_time": "2024-10-16T07:08:07.044Z"
   },
   {
    "duration": 7,
    "start_time": "2024-10-16T07:08:07.394Z"
   },
   {
    "duration": 185,
    "start_time": "2024-10-16T07:08:07.403Z"
   },
   {
    "duration": 197,
    "start_time": "2024-10-16T07:08:07.590Z"
   },
   {
    "duration": 298,
    "start_time": "2024-10-16T07:08:07.789Z"
   },
   {
    "duration": 175,
    "start_time": "2024-10-16T07:08:08.089Z"
   },
   {
    "duration": 182,
    "start_time": "2024-10-16T07:08:08.266Z"
   },
   {
    "duration": 111,
    "start_time": "2024-10-16T07:08:08.449Z"
   },
   {
    "duration": 4,
    "start_time": "2024-10-16T07:08:08.562Z"
   },
   {
    "duration": 142,
    "start_time": "2024-10-16T07:08:08.568Z"
   },
   {
    "duration": 5,
    "start_time": "2024-10-16T07:08:08.712Z"
   },
   {
    "duration": 201,
    "start_time": "2024-10-16T07:08:08.719Z"
   },
   {
    "duration": 29,
    "start_time": "2024-10-16T07:08:08.923Z"
   },
   {
    "duration": 11,
    "start_time": "2024-10-16T07:08:08.954Z"
   },
   {
    "duration": 24,
    "start_time": "2024-10-16T07:08:08.967Z"
   },
   {
    "duration": 26,
    "start_time": "2024-10-16T07:08:08.993Z"
   },
   {
    "duration": 14,
    "start_time": "2024-10-16T07:08:09.021Z"
   },
   {
    "duration": 3072,
    "start_time": "2024-10-16T23:41:32.081Z"
   },
   {
    "duration": 35,
    "start_time": "2024-10-16T23:41:37.518Z"
   },
   {
    "duration": 13,
    "start_time": "2024-10-16T23:41:39.669Z"
   },
   {
    "duration": 3,
    "start_time": "2024-10-16T23:43:08.550Z"
   },
   {
    "duration": 36,
    "start_time": "2024-10-16T23:43:11.006Z"
   },
   {
    "duration": 4,
    "start_time": "2024-10-16T23:43:20.480Z"
   },
   {
    "duration": 19,
    "start_time": "2024-10-16T23:43:54.127Z"
   },
   {
    "duration": 3,
    "start_time": "2024-10-16T23:43:56.177Z"
   },
   {
    "duration": 34,
    "start_time": "2024-10-16T23:43:57.591Z"
   },
   {
    "duration": 41,
    "start_time": "2024-10-16T23:44:35.011Z"
   },
   {
    "duration": 8,
    "start_time": "2024-10-16T23:44:37.672Z"
   },
   {
    "duration": 100,
    "start_time": "2024-10-16T23:45:36.581Z"
   },
   {
    "duration": 364,
    "start_time": "2024-10-16T23:45:40.309Z"
   },
   {
    "duration": 6,
    "start_time": "2024-10-16T23:46:16.070Z"
   },
   {
    "duration": 202,
    "start_time": "2024-10-16T23:46:17.635Z"
   },
   {
    "duration": 236,
    "start_time": "2024-10-16T23:47:19.839Z"
   },
   {
    "duration": 296,
    "start_time": "2024-10-16T23:51:51.450Z"
   },
   {
    "duration": 204,
    "start_time": "2024-10-16T23:53:41.815Z"
   },
   {
    "duration": 275,
    "start_time": "2024-10-16T23:54:33.803Z"
   },
   {
    "duration": 142,
    "start_time": "2024-10-16T23:54:35.218Z"
   },
   {
    "duration": 6,
    "start_time": "2024-10-16T23:54:58.763Z"
   },
   {
    "duration": 4,
    "start_time": "2024-10-16T23:55:02.739Z"
   },
   {
    "duration": 155,
    "start_time": "2024-10-16T23:55:41.464Z"
   },
   {
    "duration": 10,
    "start_time": "2024-10-16T23:55:51.183Z"
   },
   {
    "duration": 5,
    "start_time": "2024-10-16T23:56:16.141Z"
   },
   {
    "duration": 235,
    "start_time": "2024-10-16T23:56:24.511Z"
   },
   {
    "duration": 116,
    "start_time": "2024-10-16T23:56:25.767Z"
   },
   {
    "duration": 12,
    "start_time": "2024-10-16T23:57:20.459Z"
   },
   {
    "duration": 7,
    "start_time": "2024-10-16T23:57:24.650Z"
   },
   {
    "duration": 32,
    "start_time": "2024-10-16T23:57:26.319Z"
   },
   {
    "duration": 13,
    "start_time": "2024-10-16T23:58:11.751Z"
   }
  ],
  "kernelspec": {
   "display_name": "base",
   "language": "python",
   "name": "python3"
  },
  "language_info": {
   "codemirror_mode": {
    "name": "ipython",
    "version": 3
   },
   "file_extension": ".py",
   "mimetype": "text/x-python",
   "name": "python",
   "nbconvert_exporter": "python",
   "pygments_lexer": "ipython3",
   "version": "3.12.4"
  },
  "toc": {
   "base_numbering": 1,
   "nav_menu": {},
   "number_sections": true,
   "sideBar": true,
   "skip_h1_title": true,
   "title_cell": "Table of Contents",
   "title_sidebar": "Contents",
   "toc_cell": false,
   "toc_position": {},
   "toc_section_display": true,
   "toc_window_display": false
  }
 },
 "nbformat": 4,
 "nbformat_minor": 2
}
